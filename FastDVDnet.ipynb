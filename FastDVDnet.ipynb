{
  "nbformat": 4,
  "nbformat_minor": 0,
  "metadata": {
    "colab": {
      "provenance": [],
      "gpuType": "T4"
    },
    "kernelspec": {
      "name": "python3",
      "display_name": "Python 3"
    },
    "language_info": {
      "name": "python"
    },
    "accelerator": "GPU"
  },
  "cells": [
    {
      "cell_type": "code",
      "source": [
        "from google.colab import drive\n",
        "\n",
        "# Mount Google Drive\n",
        "drive.mount('/content/drive')"
      ],
      "metadata": {
        "id": "35x3BQpAgX_F"
      },
      "execution_count": null,
      "outputs": []
    },
    {
      "cell_type": "code",
      "execution_count": null,
      "metadata": {
        "id": "1Q_FoobFf8FC"
      },
      "outputs": [],
      "source": [
        "# Specify the directory path in Google Drive\n",
        "makeReposit = \"/content/drive/MyDrive/FastDVDnet\"\n",
        "\n",
        "# Create the directory if it doesn't exist\n",
        "!mkdir -p \"$makeReposit/\"\n",
        "\n",
        "# Change the current working directory to the specified path\n",
        "%cd \"$makeReposit/\"\n",
        "\n",
        "# Clone the repository using git\n",
        "!git clone https://github.com/m-tassano/fastdvdnet"
      ]
    },
    {
      "cell_type": "code",
      "source": [
        "%cd /content/drive/MyDrive/FastDVDnet/fastdvdnet"
      ],
      "metadata": {
        "id": "dv7mfj6agt2n"
      },
      "execution_count": null,
      "outputs": []
    },
    {
      "cell_type": "code",
      "source": [
        "!pip install tensorboardX"
      ],
      "metadata": {
        "id": "dN_xzb4xmNOD"
      },
      "execution_count": null,
      "outputs": []
    },
    {
      "cell_type": "code",
      "source": [
        "!python test_fastdvdnet.py --test_path \"/content/drive/MyDrive/Noisy\" --noise_sigma 30 --save_path \"/content/drive/MyDrive/FastDVDnet_Results\""
      ],
      "metadata": {
        "id": "a1HFfUE3g9UY"
      },
      "execution_count": null,
      "outputs": []
    }
  ]
}